{
 "cells": [
  {
   "cell_type": "markdown",
   "id": "b591b313-9d97-49b2-8aaa-e76562336ff8",
   "metadata": {},
   "source": [
    "# Setup\n",
    "\n",
    "> Guideline for setting up `nbdev` for NinjaLABO"
   ]
  },
  {
   "cell_type": "markdown",
   "id": "65084c37-00ce-4084-afa7-a5f4bb69e15b",
   "metadata": {},
   "source": [
    "## Step 0 - Install `nbdev`\n",
    "\n",
    "Follow instructions from official page: https://nbdev.fast.ai/tutorials/tutorial.html. This tutorial includes the following installations:\n",
    "\n",
    "- Install JupyterLab (using `pip` or `conda`)  \n",
    "- Install `nbdev` (using `pip` or `conda`)  \n",
    "- Install Quarto (using command from `nbdev`)  \n",
    "- Install Quarto JupyterLab extension (command `pip install jupyterlab-quarto`)  \n",
    "\n",
    "**NOTE**  \n",
    "It is possible that you encounter errors due to latest updates from Jupyter Lab. One such error is JavaScript error when rendering notebook caused when adding comments onto parameter declaration. One solution to this is to downgrade Jupyter Lab version to 3, e.g.,\n",
    "\n",
    "```\n",
    "conda install -c conda-forge jupyterlab=3\n",
    "```"
   ]
  },
  {
   "cell_type": "markdown",
   "id": "e22e379f-a533-4739-a92d-008d91d58af7",
   "metadata": {},
   "source": [
    "## Step 1 - Initialize repository\n",
    "\n",
    "Follow the First steps Section of the same tutorial. The main steps are:\n",
    "\n",
    "- Create and clone a new Github repository  \n",
    "- Use command `nbdev_new` in the cloned repository to initialize a `nbdev` project  \n",
    "- Follow the prompts to create a suitable `setting.ini` file\n",
    "\n",
    "**NOTE**  \n",
    "\n",
    "- By default, the module automatically exported by `nbdev` will have the same name as the repository (if not set otherwise). The exported python files will be stored in a directory with the same name in root repository. Please be careful not to include inappropriate characters in the module name or source package, else the exported modules cannot be imported correctly.  \n",
    "- By default, two Github actions are added after initialization - one for testing, and one for deploying automatically generated documents. However, for us it is better to remove the deploying actions (or writing new action just for generating documents). This is because deployiment is to `ninjalabo.github.io` by Github Pages, which is already occupied with our Landing Page.  \n",
    "- By default, Apache LICENSE is added. But we can remove that file if repository is only for private use."
   ]
  },
  {
   "cell_type": "markdown",
   "id": "663f7fa6-d202-4722-9492-9cc3e79b283f",
   "metadata": {},
   "source": [
    "## Step 2 - Start making edits\n",
    "\n",
    "Keep following the tutorial. From its Recap section:  \n",
    "\n",
    "- Install hooks for git-friendly notebooks with `nbdev_install_hooks`  \n",
    "- Install your package for development with `pip install -e '.[dev]'` (automatic update)  \n",
    "- Preview your docs with `nbdev_preview` (generate Quarto pages for documentation)  \n",
    "- Add your changes  \n",
    "- Update nbs/index.ipynb with your own information (this becomes the README.md file)  \n",
    "- Prepare your changes with `nbdev_prepare`  \n",
    "- Push to GitHub  \n",
    "\n",
    "For making changes, take a look at the example workflow in `02_workflow.ipynb`."
   ]
  },
  {
   "cell_type": "code",
   "execution_count": null,
   "id": "f2c03b91-0d13-49d1-8253-55a2719a6824",
   "metadata": {},
   "outputs": [],
   "source": []
  }
 ],
 "metadata": {
  "kernelspec": {
   "display_name": "python3",
   "language": "python",
   "name": "python3"
  }
 },
 "nbformat": 4,
 "nbformat_minor": 5
}
